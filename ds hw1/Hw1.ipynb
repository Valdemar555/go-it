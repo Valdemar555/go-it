{
 "cells": [
  {
   "cell_type": "code",
   "execution_count": 2,
   "id": "ba38263d",
   "metadata": {},
   "outputs": [
    {
     "name": "stdout",
     "output_type": "stream",
     "text": [
      "Collecting numpy\n",
      "  Downloading numpy-1.23.5-cp310-cp310-win_amd64.whl (14.6 MB)\n",
      "     ---------------------------------------- 14.6/14.6 MB 1.0 MB/s eta 0:00:00\n",
      "Installing collected packages: numpy\n",
      "Successfully installed numpy-1.23.5\n"
     ]
    },
    {
     "name": "stderr",
     "output_type": "stream",
     "text": [
      "WARNING: There was an error checking the latest version of pip.\n"
     ]
    }
   ],
   "source": [
    "!pip install numpy "
   ]
  },
  {
   "cell_type": "code",
   "execution_count": 5,
   "id": "329988c2",
   "metadata": {},
   "outputs": [],
   "source": [
    "import numpy as np"
   ]
  },
  {
   "cell_type": "code",
   "execution_count": null,
   "id": "d595a732",
   "metadata": {},
   "outputs": [],
   "source": [
    "Exercise1"
   ]
  },
  {
   "cell_type": "code",
   "execution_count": 12,
   "id": "b0e51b0b",
   "metadata": {},
   "outputs": [
    {
     "name": "stdout",
     "output_type": "stream",
     "text": [
      "[[10000.]]\n",
      "[[25000.]]\n",
      "[[15000.]]\n"
     ]
    }
   ],
   "source": [
    "mat = np.matrix([[1, 1, 1], [0.05, 0.07, 0], [0.05, 0, 0.06]])\n",
    "vec = np.matrix([[50000], [2250], [1400]])\n",
    "x1, x2, x3 = np.linalg.solve(mat, vec)\n",
    "result = np.linalg.solve(mat, vec)\n",
    "print(x1)\n",
    "print(x2)\n",
    "print(x3)\n",
    "#sumx = x1+x2+x3\n",
    "#print(sumx)"
   ]
  },
  {
   "cell_type": "markdown",
   "id": "190e2b7d",
   "metadata": {},
   "source": [
    "Exercise2"
   ]
  },
  {
   "cell_type": "code",
   "execution_count": 13,
   "id": "7f4368e3",
   "metadata": {},
   "outputs": [
    {
     "name": "stdout",
     "output_type": "stream",
     "text": [
      "Количество моделей iPhone6: 436\n",
      "Количество моделей iPhone11: 556\n",
      "Количество моделей iPhone12: 336\n"
     ]
    }
   ],
   "source": [
    "a = np.matrix([[1, 1, 1], [1, -1, 0], [1, 0, -1]])\n",
    "b = np.matrix([[1328], [-120], [100]])\n",
    "x, y, z = np.linalg.solve(a, b)\n",
    "print(f'Количество моделей iPhone6: {int(x)}')\n",
    "print(f'Количество моделей iPhone11: {int(y)}')\n",
    "print(f'Количество моделей iPhone12: {int(z)}')"
   ]
  },
  {
   "cell_type": "markdown",
   "id": "6d30fd22",
   "metadata": {},
   "source": [
    "Exercise3"
   ]
  },
  {
   "cell_type": "code",
   "execution_count": 15,
   "id": "2e8aa604",
   "metadata": {},
   "outputs": [
    {
     "name": "stdout",
     "output_type": "stream",
     "text": [
      "Значение a2=12.0, значение b2=0.5, значение c2=4.0\n"
     ]
    }
   ],
   "source": [
    "matr1 = np.matrix([[3,0,3], [6,1/4,0], [1,1/3,1]], dtype=float)\n",
    "matr2 = np.matrix(\"1;1;1\")\n",
    "vector = np.linalg.solve(matr1, matr2)\n",
    "a2 = round(float(1/vector[0]), 1)\n",
    "b2 = round(float(1/vector[1]), 1)\n",
    "c2 = round(float(1/vector[2]), 1)\n",
    "print(f'Значение a2={a2}, значение b2={b2}, значение c2={c2}')"
   ]
  },
  {
   "cell_type": "markdown",
   "id": "8d8ddb07",
   "metadata": {},
   "source": [
    "Exercise4"
   ]
  },
  {
   "cell_type": "code",
   "execution_count": 20,
   "id": "127e9dff",
   "metadata": {},
   "outputs": [
    {
     "name": "stdout",
     "output_type": "stream",
     "text": [
      "Значение a=4, значение b=5, значение c=3\n"
     ]
    }
   ],
   "source": [
    "matr4 = np.matrix([[1, 1, 1], [9, 3, 1], [1, -1, 1]])\n",
    "vect4 = np.matrix([[12], [54], [2]])\n",
    "result = np.linalg.solve(matr4, vect4)\n",
    "a4 = int(result[0])\n",
    "b4 = int(result[1])\n",
    "c4 = int(result[2])\n",
    "print(f'Значение a={a4}, значение b={b4}, значение c={c4}')"
   ]
  },
  {
   "cell_type": "markdown",
   "id": "d0ef656b",
   "metadata": {},
   "source": [
    "Exercise5"
   ]
  },
  {
   "cell_type": "code",
   "execution_count": 38,
   "id": "8aaa232e",
   "metadata": {},
   "outputs": [],
   "source": [
    "def get_polynom(coords):\n",
    "    \n",
    "    length = len(coords)-1\n",
    "    list_first = []\n",
    "    list_second = []\n",
    "    \n",
    "    for x, y in coords:\n",
    "        list_second.append(y)\n",
    "        mult_x = []\n",
    "        \n",
    "        for i in range(length+1):\n",
    "            mult_x.append(x**i)\n",
    "        list_first. append(mult_x)        \n",
    "    \n",
    "    matr_a = np.array(list_first)\n",
    "    matr_b = np.array(list_second)\n",
    "    \n",
    "    return np.linalg.solve(matr_a, matr_b)"
   ]
  },
  {
   "cell_type": "code",
   "execution_count": 39,
   "id": "e7b2664e",
   "metadata": {},
   "outputs": [
    {
     "data": {
      "text/plain": [
       "array([75.        , 64.76982228, -3.28913192, -1.0589542 ])"
      ]
     },
     "execution_count": 39,
     "metadata": {},
     "output_type": "execute_result"
    }
   ],
   "source": [
    "get_polynom([(7,4), (-12,654), (0, 75), (-1, 8)])"
   ]
  },
  {
   "cell_type": "code",
   "execution_count": null,
   "id": "e6f2ebf4",
   "metadata": {},
   "outputs": [],
   "source": []
  }
 ],
 "metadata": {
  "kernelspec": {
   "display_name": "Python 3 (ipykernel)",
   "language": "python",
   "name": "python3"
  },
  "language_info": {
   "codemirror_mode": {
    "name": "ipython",
    "version": 3
   },
   "file_extension": ".py",
   "mimetype": "text/x-python",
   "name": "python",
   "nbconvert_exporter": "python",
   "pygments_lexer": "ipython3",
   "version": "3.10.0"
  }
 },
 "nbformat": 4,
 "nbformat_minor": 5
}

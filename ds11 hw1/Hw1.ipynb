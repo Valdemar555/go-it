{
 "cells": [
  {
   "cell_type": "markdown",
   "id": "e298436f",
   "metadata": {},
   "source": [
    "<b>1<b/> Створіть одновимірний масив (вектор) з першими 10-ма натуральними числами та виведіть його значення."
   ]
  },
  {
   "cell_type": "code",
   "execution_count": 2,
   "id": "44ad2f8b",
   "metadata": {},
   "outputs": [],
   "source": [
    "import numpy as np"
   ]
  },
  {
   "cell_type": "code",
   "execution_count": 4,
   "id": "4ec44ca8",
   "metadata": {},
   "outputs": [
    {
     "name": "stdout",
     "output_type": "stream",
     "text": [
      "[ 1  2  3  4  5  6  7  8  9 10]\n"
     ]
    }
   ],
   "source": [
    "vec_1 = np.arange(1,11,1)\n",
    "print(vec_2)"
   ]
  },
  {
   "cell_type": "markdown",
   "id": "a3d3ea80",
   "metadata": {},
   "source": [
    "<b>2<b/> Створіть двовимірний масив (матрицю) розміром 3x3, заповніть його нулями та виведіть його значення."
   ]
  },
  {
   "cell_type": "code",
   "execution_count": 11,
   "id": "579dbcf6",
   "metadata": {},
   "outputs": [
    {
     "name": "stdout",
     "output_type": "stream",
     "text": [
      "[[0 0 0]\n",
      " [0 0 0]\n",
      " [0 0 0]]\n"
     ]
    }
   ],
   "source": [
    "mat_2 = np.zeros((3, 3), dtype=int)\n",
    "print(mat_2)"
   ]
  },
  {
   "cell_type": "markdown",
   "id": "9cd10b1e",
   "metadata": {},
   "source": [
    "<b>3<b/> Створіть масив розміром 5x5, заповніть його випадковими цілими числами в діапазоні від 1 до 10 та виведіть його значення."
   ]
  },
  {
   "cell_type": "code",
   "execution_count": 5,
   "id": "135f1957",
   "metadata": {},
   "outputs": [
    {
     "name": "stdout",
     "output_type": "stream",
     "text": [
      "[[ 8  1  1  1  9]\n",
      " [ 7  2 10  9  9]\n",
      " [ 9  2  1  8  2]\n",
      " [10  2  4  7  4]\n",
      " [ 1 10  7  2  1]]\n"
     ]
    }
   ],
   "source": [
    "mat_3 = np.random.randint(0,11, size=(5,5),dtype=int)\n",
    "print(mat_3)"
   ]
  },
  {
   "cell_type": "markdown",
   "id": "c3cec0db",
   "metadata": {},
   "source": [
    "<b>4<b/> Створіть масив розміром 4x4, заповніть його випадковими дійсними числами в діапазоні від 0 до 1 та виведіть його значення."
   ]
  },
  {
   "cell_type": "code",
   "execution_count": 8,
   "id": "b1b1ed7b",
   "metadata": {},
   "outputs": [
    {
     "name": "stdout",
     "output_type": "stream",
     "text": [
      "[[ 0.34561669 -0.40620024 -2.19420058  1.11589441]\n",
      " [-0.74303926  0.2555443   0.49060846 -1.68934473]\n",
      " [-0.01862036 -0.30779192 -0.47112287  0.22755254]\n",
      " [-0.944569   -0.80821294  1.16300038  0.26064583]]\n"
     ]
    }
   ],
   "source": [
    "mat_4 = np.random.randn(4, 4) \n",
    "print(mat_4)"
   ]
  },
  {
   "cell_type": "code",
   "execution_count": 10,
   "id": "adc8a14f",
   "metadata": {},
   "outputs": [
    {
     "data": {
      "text/plain": [
       "array([[ True,  True,  True,  True],\n",
       "       [ True,  True,  True,  True],\n",
       "       [ True,  True,  True,  True],\n",
       "       [ True,  True,  True,  True]])"
      ]
     },
     "execution_count": 10,
     "metadata": {},
     "output_type": "execute_result"
    }
   ],
   "source": [
    "np.isreal(mat_4)\n"
   ]
  },
  {
   "cell_type": "markdown",
   "id": "249cc999",
   "metadata": {},
   "source": [
    "<b>5<b/> Створіть два одновимірних масиви розміром 5, заповніть їх випадковими цілими числами в діапазоні від 1 до 10 та виконайте на них поелементні операції додавання, віднімання та множення."
   ]
  },
  {
   "cell_type": "code",
   "execution_count": 17,
   "id": "f8497071",
   "metadata": {},
   "outputs": [
    {
     "name": "stdout",
     "output_type": "stream",
     "text": [
      "[1 1 8 2 1]\n",
      "[2 7 4 3 1]\n",
      "[ 3  8 12  5  2]\n",
      "[-1 -6  4 -1  0]\n",
      "[ 2  7 32  6  1]\n"
     ]
    }
   ],
   "source": [
    "vec_1 = np.random.randint(0,10,5)\n",
    "vec_2 = np.random.randint(0,10,5)\n",
    "print(vec_1)\n",
    "print(vec_2)\n",
    "print(vec_1+vec_2)\n",
    "print(vec_1-vec_2)\n",
    "print(vec_1*vec_2)"
   ]
  },
  {
   "cell_type": "markdown",
   "id": "2fdb3e36",
   "metadata": {},
   "source": [
    "<b>6<b/> Створіть два вектори розміром 7, заповніть довільними числами та знайдіть їх скалярний добуток."
   ]
  },
  {
   "cell_type": "code",
   "execution_count": 21,
   "id": "b9d45344",
   "metadata": {},
   "outputs": [
    {
     "name": "stdout",
     "output_type": "stream",
     "text": [
      "[0.0345447  0.63032417 0.61668205 0.84454432 0.86529279 0.5842133\n",
      " 0.74701027]\n",
      "[0.66665756 0.37780769 0.24741123 0.01129001 0.82513614 0.46937209\n",
      " 0.65552728]\n"
     ]
    },
    {
     "data": {
      "text/plain": [
       "1.9011631696493734"
      ]
     },
     "execution_count": 21,
     "metadata": {},
     "output_type": "execute_result"
    }
   ],
   "source": [
    "vec_3 = np.random.random(7)\n",
    "vec_4 = np.random.random(7)\n",
    "print(vec_3)\n",
    "print(vec_4)\n",
    "np.dot(vec_3,vec_4)"
   ]
  },
  {
   "cell_type": "markdown",
   "id": "d16da9ef",
   "metadata": {},
   "source": [
    "<b>7<b/> Створіть дві матриці розміром 2x2 та 2x3, заповніть їх випадковими цілими числами в діапазоні від 1 до 10 та перемножте їх між собою."
   ]
  },
  {
   "cell_type": "code",
   "execution_count": 24,
   "id": "151263fa",
   "metadata": {},
   "outputs": [
    {
     "name": "stdout",
     "output_type": "stream",
     "text": [
      "[[0 4]\n",
      " [5 7]]\n",
      "[[0 4]\n",
      " [5 7]]\n",
      "[[24 24 36]\n",
      " [57 72 63]]\n"
     ]
    }
   ],
   "source": [
    "mat_61 = np.random.randint(0,10, size=(2,2),dtype=int)\n",
    "mat_62 = np.random.randint(0,10, size=(2,3),dtype=int)\n",
    "print(mat_61)\n",
    "print(mat_61)\n",
    "print(np.dot(mat_61, mat_62))"
   ]
  },
  {
   "cell_type": "markdown",
   "id": "a37d3e82",
   "metadata": {},
   "source": [
    "<b>8<b/>  Створіть матрицю розміром 3x3, заповніть її випадковими цілими числами в діапазоні від 1 до 10 та знайдіть її обернену матрицю."
   ]
  },
  {
   "cell_type": "code",
   "execution_count": 6,
   "id": "08de952e",
   "metadata": {},
   "outputs": [
    {
     "name": "stdout",
     "output_type": "stream",
     "text": [
      "[[6 4 1]\n",
      " [1 4 7]\n",
      " [9 9 1]]\n",
      "[[ 0.44360902 -0.03759398 -0.18045113]\n",
      " [-0.46616541  0.02255639  0.30827068]\n",
      " [ 0.20300752  0.13533835 -0.15037594]]\n"
     ]
    }
   ],
   "source": [
    "mat_8 = np.random.randint(0,11, size=(3,3),dtype=int)\n",
    "print(mat_8)\n",
    "print(np.linalg.inv(mat_8))"
   ]
  },
  {
   "cell_type": "markdown",
   "id": "5ae8f1f6",
   "metadata": {},
   "source": [
    "<b>9<b/> Створіть матрицю розміром 4x4, заповніть її випадковими дійсними числами в діапазоні від 0 до 1 та транспонуйте її."
   ]
  },
  {
   "cell_type": "code",
   "execution_count": 33,
   "id": "d9b0ac53",
   "metadata": {},
   "outputs": [
    {
     "name": "stdout",
     "output_type": "stream",
     "text": [
      "[[0.4732005  0.59297518 0.61299538 0.51049342]\n",
      " [0.49482343 0.53491849 0.89515879 0.93660621]\n",
      " [0.04571437 0.11008803 0.18721103 0.60020014]\n",
      " [0.91804157 0.97956291 0.31400436 0.00345869]]\n",
      "[[0.4732005  0.49482343 0.04571437 0.91804157]\n",
      " [0.59297518 0.53491849 0.11008803 0.97956291]\n",
      " [0.61299538 0.89515879 0.18721103 0.31400436]\n",
      " [0.51049342 0.93660621 0.60020014 0.00345869]]\n"
     ]
    }
   ],
   "source": [
    "mat_9 = np.random.rand(4,4)\n",
    "print(mat_9)\n",
    "print(mat_9.T)"
   ]
  },
  {
   "cell_type": "markdown",
   "id": "ebca8114",
   "metadata": {},
   "source": [
    "<b>10<b/> Створіть матрицю розміром 3x4 та вектор розміром 4, заповніть їх випадковими цілими числами в діапазоні від 1 до 10 та перемножте матрицю на вектор.\n",
    "\n"
   ]
  },
  {
   "cell_type": "code",
   "execution_count": 7,
   "id": "2138bff8",
   "metadata": {},
   "outputs": [
    {
     "name": "stdout",
     "output_type": "stream",
     "text": [
      "[140 170  58]\n"
     ]
    }
   ],
   "source": [
    "mat_10 = np.random.randint(0,11, size=(3,4),dtype=int)\n",
    "vec_10 = np.random.randint(0,11, size=(4),dtype=int)\n",
    "print(np.dot(mat_10,vec_10))"
   ]
  },
  {
   "cell_type": "markdown",
   "id": "aa0e8494",
   "metadata": {},
   "source": [
    "<b>11<b/> Створіть матрицю розміром 2x3 та вектор розміром 3, заповніть їх випадковими дійсними числами в діапазоні від 0 до 1 та перемножте матрицю на вектор.    "
   ]
  },
  {
   "cell_type": "code",
   "execution_count": 35,
   "id": "6a6e6b70",
   "metadata": {},
   "outputs": [
    {
     "name": "stdout",
     "output_type": "stream",
     "text": [
      "[1.21428108 1.29155732]\n"
     ]
    }
   ],
   "source": [
    "mat_11 = np.random.rand(2,3)\n",
    "vec_11 = np.random.rand(3)\n",
    "print(np.dot(mat_11,vec_11))"
   ]
  },
  {
   "cell_type": "markdown",
   "id": "b80f771d",
   "metadata": {},
   "source": [
    "<b>12<b/> Створіть дві матриці розміром 2x2, заповніть їх випадковими цілими числами в діапазоні від 1 до 10 та виконайте їхнє поелементне множення."
   ]
  },
  {
   "cell_type": "code",
   "execution_count": 8,
   "id": "f6fdb125",
   "metadata": {},
   "outputs": [
    {
     "name": "stdout",
     "output_type": "stream",
     "text": [
      "[[ 0  0]\n",
      " [20  6]]\n"
     ]
    }
   ],
   "source": [
    "mat_121 = np.random.randint(0,11, size=(2,2),dtype=int)\n",
    "mat_122 = np.random.randint(0,11, size=(2,2),dtype=int)\n",
    "print(mat_121*mat_122)"
   ]
  },
  {
   "cell_type": "markdown",
   "id": "b071e8e5",
   "metadata": {},
   "source": [
    "<b>13<b/> Створіть дві матриці розміром 2x2, заповніть їх випадковими цілими числами в діапазоні від 1 до 10 та знайдіть їх добуток.\n",
    "\n"
   ]
  },
  {
   "cell_type": "code",
   "execution_count": 9,
   "id": "5b4a20ca",
   "metadata": {},
   "outputs": [
    {
     "name": "stdout",
     "output_type": "stream",
     "text": [
      "[[ 0  7]\n",
      " [10  7]]\n",
      "[[7 3]\n",
      " [5 7]]\n",
      "[[ 35  49]\n",
      " [105  79]]\n"
     ]
    }
   ],
   "source": [
    "mat_131 = np.random.randint(0,11, size=(2,2),dtype=int)\n",
    "mat_132 = np.random.randint(0,11, size=(2,2),dtype=int)\n",
    "print(mat_131)\n",
    "print(mat_132)\n",
    "print(np.dot(mat_131,mat_132))"
   ]
  },
  {
   "cell_type": "markdown",
   "id": "6002d644",
   "metadata": {},
   "source": [
    "<b>14<b/> Створіть матрицю розміром 5x5, заповніть її випадковими цілими числами в діапазоні від 1 до 100 та знайдіть суму елементів матриці."
   ]
  },
  {
   "cell_type": "code",
   "execution_count": 10,
   "id": "ab7513bc",
   "metadata": {},
   "outputs": [
    {
     "name": "stdout",
     "output_type": "stream",
     "text": [
      "1185\n"
     ]
    }
   ],
   "source": [
    "mat_14 = np.random.randint(0,101, size=(5,5),dtype=int)\n",
    "print(mat_14.sum())"
   ]
  },
  {
   "cell_type": "markdown",
   "id": "0bbc6164",
   "metadata": {},
   "source": [
    "<b>15<b/> Створіть дві матриці розміром 4x4, заповніть їх випадковими цілими числами в діапазоні від 1 до 10 та знайдіть їхню різницю.\n"
   ]
  },
  {
   "cell_type": "code",
   "execution_count": 11,
   "id": "615c4295",
   "metadata": {},
   "outputs": [
    {
     "name": "stdout",
     "output_type": "stream",
     "text": [
      "[[-2 -1  7 -3]\n",
      " [-6  2 -8  2]\n",
      " [ 3 -2  1  3]\n",
      " [ 0  0  6  2]]\n"
     ]
    }
   ],
   "source": [
    "mat_151 = np.random.randint(0,11, size=(4,4),dtype=int)\n",
    "mat_152 = np.random.randint(0,11, size=(4,4),dtype=int)\n",
    "print(mat_151-mat_152)"
   ]
  },
  {
   "cell_type": "markdown",
   "id": "25a6cd76",
   "metadata": {},
   "source": [
    "<b>16<b/> Створіть матрицю розміром 3x3, заповніть її випадковими дійсними числами в діапазоні від 0 до 1 та знайдіть вектор-стовпчик, що містить суму елементів кожного рядка матриці."
   ]
  },
  {
   "cell_type": "code",
   "execution_count": 42,
   "id": "37d19609",
   "metadata": {},
   "outputs": [
    {
     "name": "stdout",
     "output_type": "stream",
     "text": [
      "[[0.80818364 0.57599343 0.23054092]\n",
      " [0.64693347 0.93809064 0.40387223]\n",
      " [0.03702665 0.20753737 0.24206316]]\n"
     ]
    }
   ],
   "source": [
    "mat_16 = np.random.rand(3,3)\n",
    "print(mat_16)"
   ]
  },
  {
   "cell_type": "code",
   "execution_count": 52,
   "id": "f1dba070",
   "metadata": {},
   "outputs": [
    {
     "name": "stdout",
     "output_type": "stream",
     "text": [
      "1.61471798745498\n",
      "1.9888963412941423\n",
      "0.48662717342841577\n",
      "[1.61471799 1.98889634 0.48662717]\n"
     ]
    }
   ],
   "source": [
    "elvec1=(mat_16[0,0]+mat_16[0,1]+mat_16[0,2])\n",
    "print(elvec1)\n",
    "elvec2=(mat_16[1,0]+mat_16[1,1]+mat_16[1,2])\n",
    "print(elvec2)\n",
    "elvec3=(mat_16[2,0]+mat_16[2,1]+mat_16[2,2])\n",
    "print(elvec3)\n",
    "vec16 = np.array([elvec1, elvec2,elvec3])\n",
    "print(vec16)"
   ]
  },
  {
   "cell_type": "markdown",
   "id": "b3bdb8bc",
   "metadata": {},
   "source": [
    "<b>17<b/> Створіть матрицю розміром 3x4 з довільними цілими числами і створінь матрицю з квадратами цих чисел."
   ]
  },
  {
   "cell_type": "code",
   "execution_count": 16,
   "id": "665ab524",
   "metadata": {},
   "outputs": [
    {
     "name": "stdout",
     "output_type": "stream",
     "text": [
      "[[52 62 59 37]\n",
      " [58 47 84 88]\n",
      " [77 96 46 11]]\n",
      "[[2704 3844 3481 1369]\n",
      " [3364 2209 7056 7744]\n",
      " [5929 9216 2116  121]]\n"
     ]
    }
   ],
   "source": [
    "mat_17 = np.random.randint(100, size=(3,4),dtype=int)\n",
    "print(mat_17)\n",
    "mat_171 = np.power((mat_17),2)\n",
    "print(mat_171)"
   ]
  },
  {
   "cell_type": "markdown",
   "id": "fc61ab0a",
   "metadata": {},
   "source": [
    "<b>18<b/> Створіть вектор розміром 4, заповніть його випадковими цілими числами в діапазоні від 1 до 50 та знайдіть вектор з квадратними коренями цих чисел."
   ]
  },
  {
   "cell_type": "code",
   "execution_count": 12,
   "id": "3b3a31e3",
   "metadata": {},
   "outputs": [
    {
     "name": "stdout",
     "output_type": "stream",
     "text": [
      "[13 29  9  1]\n"
     ]
    }
   ],
   "source": [
    "vec_18 = np.random.randint(0,51, size=(4),dtype=int)\n",
    "print(vec_18)"
   ]
  },
  {
   "cell_type": "code",
   "execution_count": 64,
   "id": "af818099",
   "metadata": {},
   "outputs": [
    {
     "data": {
      "text/plain": [
       "array([4.35889894, 4.79583152, 6.40312424, 5.74456265])"
      ]
     },
     "execution_count": 64,
     "metadata": {},
     "output_type": "execute_result"
    }
   ],
   "source": [
    "np.sqrt(vec_18)"
   ]
  }
 ],
 "metadata": {
  "kernelspec": {
   "display_name": "Python 3 (ipykernel)",
   "language": "python",
   "name": "python3"
  },
  "language_info": {
   "codemirror_mode": {
    "name": "ipython",
    "version": 3
   },
   "file_extension": ".py",
   "mimetype": "text/x-python",
   "name": "python",
   "nbconvert_exporter": "python",
   "pygments_lexer": "ipython3",
   "version": "3.10.0"
  }
 },
 "nbformat": 4,
 "nbformat_minor": 5
}
